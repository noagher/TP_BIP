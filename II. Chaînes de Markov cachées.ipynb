{
 "cells": [
  {
   "cell_type": "code",
   "execution_count": 1,
   "id": "9f5dc64e",
   "metadata": {},
   "outputs": [
    {
     "name": "stdout",
     "output_type": "stream",
     "text": [
      "Requirement already satisfied: hilbertcurve in ./anaconda3/lib/python3.7/site-packages (2.0.5)\n",
      "Requirement already satisfied: numpy in ./anaconda3/lib/python3.7/site-packages (from hilbertcurve) (1.19.2)\n"
     ]
    }
   ],
   "source": [
    "import numpy as np\n",
    "import matplotlib.pyplot as plt\n",
    "import scipy.stats as st\n",
    "import sklearn.cluster as sc\n",
    "import time\n",
    "\n",
    "!pip install hilbertcurve\n",
    "from hilbertcurve.hilbertcurve import HilbertCurve\n",
    "\n",
    "\n",
    "# paramètres matplotlib à fixer une fois pour toute\n",
    "plt.rcParams['image.cmap'] = 'gray'          # choix de colormap\n",
    "plt.rcParams['image.interpolation'] = 'nearest'  # pas d'interpolation pour l'affichage\n",
    "plt.rcParams['image.origin'] = 'lower'           # origine en bas à gauche"
   ]
  },
  {
   "cell_type": "markdown",
   "id": "b1464467",
   "metadata": {},
   "source": [
    "## Préambule : réutiliser du code Python dans un notebook\n",
    "\n",
    "Vous pouvez réutiliser du code Python mis en place auparavant.\n",
    "\n",
    "Pour cela, le plus simple est d'écrire les fonctions utiles dans un fichier `outils.py`, et d'exécuter ensuite `import outils as ou`.\n",
    "\n",
    "\n",
    "Cela sera utile pour :\n",
    "- simuler $\\mathbf{Y} = \\mathbf{y}$ sachant $\\mathbf{x}$\n",
    "- estimer les paramètres\n",
    "- en fin de TP, comparer les résultats entre le cas \"chaîne de Markov\" et le cas \"indépendance\"."
   ]
  },
  {
   "cell_type": "code",
   "execution_count": 2,
   "id": "97fcced6",
   "metadata": {},
   "outputs": [],
   "source": [
    "class Param_chaine:\n",
    "    def __init__(self):\n",
    "        \"\"\"Constructeur : valeurs initiales.\"\"\"\n",
    "        self.pi = np.array([0.5,0.5])\n",
    "        self.sig = np.array([0.4,0.4])\n",
    "        self.m = np.array([0.,1.])\n",
    "        self.A = np.array([[0.999,0.001],\n",
    "                          [0.001,0.999]])\n",
    "        \n",
    "    def print(self):\n",
    "        \"\"\"Affichage en une ligne des valeurs de Theta.\"\"\"\n",
    "        print(\"Theta : m = \", self.m, \"\\t| sig = \",self.sig,\"\\t| pi =\", self.pi,\"\")\n",
    "        print(\"        A[0,0] = \", self.A[0,0],\"\\t| A[0,1] = \", self.A[0,1] )\n",
    "        print(\"        A[1,0] = \", self.A[1,0],\"\\t| A[1,1] = \", self.A[1,1] )\n",
    "        \n",
    "    def toarray(self):\n",
    "        \"\"\"Retourne les valeurs de Theta sous la forme d'un tableau.\"\"\"\n",
    "        return np.array([self.m[0],self.m[1],self.sig[0],self.sig[1],\n",
    "                         self.pi[0],self.pi[1],self.A[0,0], self.A[0,1], self.A[1,0], self.A[1,1]\n",
    "                         ])\n",
    "    \n",
    "    def fromarray(self,array):\n",
    "        \"\"\"Attribue des valeurs dans Theta à partir d'un tableau.\"\"\"\n",
    "        self.m[0],self.m[1],self.sig[0],self.sig[1],self.pi[0],self.pi[1] = array[:6]\n",
    "        self.A = array[6:].reshape(2,2)\n",
    "        \n",
    "def image2chain(image):\n",
    "    \"\"\"Transforme une image en chaîne.\"\"\"\n",
    "    largeur = image.shape[0]\n",
    "    p=int(np.log2(largeur**2)); # il faut 2**p pixels dans l'image\n",
    "    n=2 # image 2D\n",
    "    hilbert_curve = HilbertCurve(p, n)\n",
    "    px = [hilbert_curve.point_from_distance(distance)[0] for distance in range(2**p)]\n",
    "    py = [hilbert_curve.point_from_distance(distance)[1] for distance in range(2**p)]\n",
    "\n",
    "    chaine = image[px,py]\n",
    "    return chaine\n",
    "\n",
    "def chain2image(chaine):\n",
    "    \"\"\"Transforme une chaîne en image.\"\"\"\n",
    "    p=int(np.log2(chaine.size)); # il faut 2**p pixels dans l'image\n",
    "    n=2 # image 2D\n",
    "    hilbert_curve = HilbertCurve(p, n)\n",
    "    px = [hilbert_curve.point_from_distance(distance)[0] for distance in range(2**p)]\n",
    "    py = [hilbert_curve.point_from_distance(distance)[1] for distance in range(2**p)]\n",
    "\n",
    "    largeur = int(np.sqrt(chaine.size))\n",
    "    out = np.zeros(shape=(largeur,largeur))\n",
    "    out[px,py] = chaine\n",
    "    return out"
   ]
  },
  {
   "cell_type": "code",
   "execution_count": 3,
   "id": "16e84caa",
   "metadata": {},
   "outputs": [],
   "source": [
    "def sample_CMC(Theta,N):\n",
    "    \"\"\" Échantillonage d'une chaîne de Markov de longueur N et de paramètre Theta.\"\"\"\n",
    "\n",
    "    X = np.zeros(shape=(N)) \n",
    "    # Choix de la valeur initiale\n",
    "    X[0] = np.random.choice((0,1), p=Theta.pi)\n",
    "    \n",
    "    # Récursion avec p(w_i | w_i-1)\n",
    "    for t in range(1,N):\n",
    "        X_prec = int(X[t-1])\n",
    "        X[t] = np.random.choice((0,1), p=Theta.A[X_prec,:])\n",
    "        \n",
    "    return X"
   ]
  },
  {
   "cell_type": "markdown",
   "id": "698213f4",
   "metadata": {},
   "source": [
    "## 1. Introduction \n",
    "\n"
   ]
  },
  {
   "cell_type": "markdown",
   "id": "a02c6944",
   "metadata": {},
   "source": [
    "<font color='orange' size = 4>**Question 1.**</font>\n",
    "\n",
    "Lancer le code qui permet de simuler une chaîne de Markov, puis l'afficher en 1D et en 2D.\n",
    "Faire varier les paramètres et commenter.\n",
    "\n",
    "Pour la taille de l'image, on prendra ici et dans la suite 128 x 128 pixels."
   ]
  },
  {
   "cell_type": "code",
   "execution_count": null,
   "id": "2c54d9a9",
   "metadata": {},
   "outputs": [],
   "source": []
  },
  {
   "cell_type": "markdown",
   "id": "903b5af3",
   "metadata": {},
   "source": [
    "<font color='orange' size = 4>**Question 2.**</font>\n",
    "\n",
    "Générer une observation $\\mathbf{Y} = \\mathbf{y}$ à partir d'une réalisation de chaîne de Markov. **Ne plus changer cette image**, c'est celle qui vous servira dans les questions suivantes."
   ]
  },
  {
   "cell_type": "code",
   "execution_count": null,
   "id": "3d0aa05f",
   "metadata": {},
   "outputs": [],
   "source": []
  },
  {
   "cell_type": "markdown",
   "id": "29a59711",
   "metadata": {},
   "source": [
    "## 2. Segmentaton supervisée\n",
    "\n",
    "<font color='orange' size = 4>**Question 3.**</font>\n",
    "\n",
    "Calculer la vraisemblance $p(y_n | x_n = \\omega_i)$ pour tout point $n$ et pour toute classe $i$. Afficher le résultat pour vérifier que les calculs sont corrects."
   ]
  },
  {
   "cell_type": "code",
   "execution_count": null,
   "id": "e7e28e46",
   "metadata": {},
   "outputs": [],
   "source": []
  },
  {
   "cell_type": "markdown",
   "id": "c2c638bf",
   "metadata": {},
   "source": [
    "<font color='orange' size = 4>**Question 4.**</font>\n",
    "\n",
    "Calculer $\\alpha(n,i)$ pour tout point $n$ et classe $i$. Le résultat sera contenu dans un tableau `alpha` de taille $(N,2)$.\n",
    "\n",
    "Afficher le résultat sous la forme de deux courbes. Que constate-t'on dès que $n$ devient trop grand ?"
   ]
  },
  {
   "cell_type": "code",
   "execution_count": null,
   "id": "2bd4994d",
   "metadata": {},
   "outputs": [],
   "source": []
  },
  {
   "cell_type": "markdown",
   "id": "7462f8cd",
   "metadata": {},
   "source": [
    "<font color='orange' size = 4>**Question 5.**</font>\n",
    "\n",
    "On se propose de remédier à ce problème en normalisant les valeurs de $\\alpha$ au fur et à mesure du calcul. Cette normalisation sera faite de telle sorte que $\\alpha(n,0) + \\alpha(n,1) = 1$ pour tout $n$.\n",
    "\n",
    "Afficher les nouvelles valeurs de $\\alpha$ pour vérifier que le problème est résolu."
   ]
  },
  {
   "cell_type": "code",
   "execution_count": null,
   "id": "21b7fa6f",
   "metadata": {},
   "outputs": [],
   "source": []
  },
  {
   "cell_type": "markdown",
   "id": "fe5c6657",
   "metadata": {},
   "source": [
    "<font color='orange' size = 4>**Question 6.**</font>\n",
    "\n",
    "Calculer maintenant $\\beta(n,i) \\forall n, \\forall i$. Comme le problème précédent existe aussi pour le calcul des $\\beta$, il est possible d'y remédier en effectuant là aussi une normalisation. "
   ]
  },
  {
   "cell_type": "code",
   "execution_count": null,
   "id": "325e9922",
   "metadata": {},
   "outputs": [],
   "source": []
  },
  {
   "cell_type": "markdown",
   "id": "59d562a0",
   "metadata": {},
   "source": [
    "<font color='orange' size = 4>**Question 7.**</font>\n",
    "\n",
    "À partir des $\\alpha, \\beta$ calculés précédemment, calculer les probabilités à posteriori $\\xi(n,i)$ puis les afficher.\n",
    "\n",
    "En déduire la segmentation de $\\mathbf{x}$ au sens du MPM, afficher le résultat sous forme d'image, et indiquer le taux d'erreur."
   ]
  },
  {
   "cell_type": "code",
   "execution_count": null,
   "id": "e3e9c5bc",
   "metadata": {},
   "outputs": [],
   "source": []
  },
  {
   "cell_type": "markdown",
   "id": "7a0445c4",
   "metadata": {},
   "source": [
    "## 3. Segmentation non supervisée.\n",
    "\n",
    "Nous allons ici implémenter l'algorithme SEM. Pour cela il est nécessaire de savoir :\n",
    "- Estimer $\\mathbf{\\Theta}$ à l'aide de données complètes $(\\mathbf{x}, \\mathbf{y})$\n",
    "- Simuler une réalisation de chaîne de Markov *a posteriori*, et donc : calculer les probabilités de transition a posteriori\n",
    "\n",
    "<font color='orange' size = 4>**Question 8.**</font>\n",
    "\n",
    "Écrire une fonction `est_A` qui estime la matrice des probabilité de transition d'une classe vers l'autre dans une chaîne de Markov `x`.\n",
    "\n",
    "Reprendre les estimateurs du maximum de vraisemblance déjà réalisés pour la moyenne $\\mu$, l'écart type $\\sigma$, et les probabilités d'apparition $\\pi$.\n",
    "\n",
    "Rassembler tous les estimateurs dans une fonction `est_Theta_chaine` qui estime l'ensemble des paramètres du modèle à partir d'un couple $\\mathbf{x}, \\mathbf{y}$."
   ]
  },
  {
   "cell_type": "code",
   "execution_count": null,
   "id": "fe972088",
   "metadata": {},
   "outputs": [],
   "source": []
  },
  {
   "cell_type": "markdown",
   "id": "3f5ad94c",
   "metadata": {},
   "source": [
    "<font color='orange' size = 4>**Question 9.**</font>\n",
    "\n",
    "Calculer :\n",
    "- $\\psi(i,j,n)$ à partir de $\\alpha$, $\\beta$ et $\\xi$\n",
    "- tous les $p(x_{n+1}=\\omega_j | x_n=\\omega_i, \\mathbf{y})$ avec $\\xi(i,j,n)$ et $\\psi(i,j,n)$\n",
    "\n",
    "Rassembler ces calculs dans une fonction `calc_ptrans_post`. \n",
    "\n",
    "Pour vérifier que les calculs sont corrects, on suppose $\\Theta$ connu (on prendra par exemple `Theta_reel`) : simuler une réalisation *a posteriori* de $\\mathbf{x}$."
   ]
  },
  {
   "cell_type": "code",
   "execution_count": null,
   "id": "7e99236d",
   "metadata": {},
   "outputs": [],
   "source": []
  },
  {
   "cell_type": "markdown",
   "id": "cf5bc523",
   "metadata": {},
   "source": [
    "<font color='orange' size = 4>**Question 10.**</font>\n",
    "\n",
    "Implémenter l'algorithme SEM. L'on pourra suivre les étapes vues dans le cas indépendant :\n",
    "\n",
    "1. Initialiser simplement en prenant un estimateur naïf de $\\mathbf{x}$\n",
    "2. Fixer un grand nombre d'itération ( $> 100$ au moins)\n",
    "3. Vérifier que la valeur finale de `Theta_SEM` est raisonnable par rapport à `Theta_reel` défini plus haut.\n",
    "\n",
    "Ensuite, nous pouvons être plus précis algorithmiquement :\n",
    "\n",
    "4. Stocker chaque valeur de $\\mathbf{\\Theta}^{(q)}$ dans une ligne d'un tableau `theta_series` de taille adéquate.\n",
    "5. Afficher toutes les valeurs prises par les paramètres en affichant 6 graphes d'évolution des valeurs en fonction du nméro d'itération.\n",
    "6. Prendre comme valeur finale de `Theta_SEM` la moyenne des dernières valeurs."
   ]
  },
  {
   "cell_type": "code",
   "execution_count": null,
   "id": "1cc26ceb",
   "metadata": {},
   "outputs": [],
   "source": []
  },
  {
   "cell_type": "markdown",
   "id": "52d6b3ec",
   "metadata": {},
   "source": [
    "<font color='orange' size = 4>**Question 11.**</font>\n",
    "\n",
    "Finalement, réaliser une segmentation non supervisée de l'image $\\mathbf{y}$ réalisée en question 2, et calculer le taux d'erreur. Le comparer à :\n",
    "- Celui obtenu dans le cas supervisé (question 7)\n",
    "- Celui obtenu dans le cas indépendant"
   ]
  },
  {
   "cell_type": "code",
   "execution_count": null,
   "id": "024e0495",
   "metadata": {},
   "outputs": [],
   "source": []
  },
  {
   "cell_type": "markdown",
   "id": "0db07d83",
   "metadata": {},
   "source": [
    "# 4. Variations expérimentales\n",
    "\n",
    "<font color='orange' size = 4>**Question 12.**</font>\n",
    "\n",
    "Faire varier la valeur prise par $\\sigma$, et afficher les courbes de résultats moyens, pour le cas supervisé et non supervisé, avec une image $\\mathbf{y}$ réalisée à partir d'une chaîne de Markov. Commenter."
   ]
  },
  {
   "cell_type": "code",
   "execution_count": null,
   "id": "9e0f57f4",
   "metadata": {},
   "outputs": [],
   "source": []
  },
  {
   "cell_type": "markdown",
   "id": "f81a19e1",
   "metadata": {},
   "source": [
    "<font color='orange' size = 4>**Question 13.**</font>\n",
    "\n",
    "Faire de même avec l'image `cat128.png` disponible sur Moodle, et commenter."
   ]
  },
  {
   "cell_type": "code",
   "execution_count": null,
   "id": "843bd351",
   "metadata": {},
   "outputs": [],
   "source": []
  }
 ],
 "metadata": {
  "kernelspec": {
   "display_name": "Python 3",
   "language": "python",
   "name": "python3"
  },
  "language_info": {
   "codemirror_mode": {
    "name": "ipython",
    "version": 3
   },
   "file_extension": ".py",
   "mimetype": "text/x-python",
   "name": "python",
   "nbconvert_exporter": "python",
   "pygments_lexer": "ipython3",
   "version": "3.7.10"
  }
 },
 "nbformat": 4,
 "nbformat_minor": 5
}
