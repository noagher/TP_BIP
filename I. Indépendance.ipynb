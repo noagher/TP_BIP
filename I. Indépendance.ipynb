{
 "cells": [
  {
   "cell_type": "markdown",
   "id": "1484f006",
   "metadata": {},
   "source": [
    "# Outils bayésiens en traitement d'image\n",
    "##   TP 1 : Le cas indépendant\n",
    "\n",
    "Dans ce TP, les objectifs sont de :\n",
    "1. Se (re)familiariser avec les outils de base en Python\n",
    "2. Réaliser des segmentation supervisées d'image dans le cas le plus simple\n",
    "3. Faire l'estimation des paramètres pour réaliser des segmentations non supervisées.\n",
    "4. Reproduire ces résultats de manière robuste en variant les conditions expérimentales."
   ]
  },
  {
   "cell_type": "markdown",
   "id": "3b45e2ba",
   "metadata": {},
   "source": [
    "## 1. Introduction et outils de base\n",
    "\n",
    "Nous commençons par importer les librairies adéquates, et fixer quelques choix d'affichage."
   ]
  },
  {
   "cell_type": "code",
   "execution_count": 1,
   "id": "064a0354",
   "metadata": {},
   "outputs": [],
   "source": [
    "import numpy as np\n",
    "import matplotlib.pyplot as plt\n",
    "import scipy.stats as st\n",
    "\n",
    "# paramètres matplotlib à fixer une fois pour toute\n",
    "plt.rcParams['image.cmap'] = 'cividis'          # choix de colormap\n",
    "plt.rcParams['image.interpolation'] = 'nearest'  # pas d'interpolation pour l'affichage\n",
    "plt.rcParams['image.origin'] = 'lower'           # origine en bas à gauche\n",
    "\n",
    "np.set_printoptions(precision=3, suppress=False) # affichage à précision limitée"
   ]
  },
  {
   "cell_type": "markdown",
   "id": "7cad68c6",
   "metadata": {},
   "source": [
    "Commençons par charger une image et l'afficher :"
   ]
  },
  {
   "cell_type": "code",
   "execution_count": 2,
   "id": "dc5944bf",
   "metadata": {},
   "outputs": [
    {
     "data": {
      "image/png": "[encoded data removed]",
      "text/plain": [
       "<Figure size 432x288 with 1 Axes>"
      ]
     },
     "metadata": {
      "needs_background": "light"
     },
     "output_type": "display_data"
    }
   ],
   "source": [
    "X = plt.imread('cat.png') # changer le chemin si nécessaire\n",
    "plt.imshow(X);"
   ]
  },
  {
   "cell_type": "markdown",
   "id": "a5e87663",
   "metadata": {},
   "source": [
    "Nous allons simuler une réalisation de $\\mathbf{y} \\sim p(\\mathbf{y}|\\mathbf{X}=\\mathbf{x})$.\n",
    "Pour cela, il est nécessaire de connaître les paramètres du modèle $\\mathbf{\\Theta}$.\n",
    "\n",
    "Nous les représentons à l'aide d'une classe `Param_id` qui contient les valeurs numériques ainsi que quelques fonctions utiles."
   ]
  },
  {
   "cell_type": "code",
   "execution_count": 3,
   "id": "e0f43ac2",
   "metadata": {},
   "outputs": [],
   "source": [
    "class Param_id:\n",
    "    \"\"\"Classe représentant les paramètres du modèle indépendant\"\"\"\n",
    "    \n",
    "    def __init__(self):\n",
    "        \"\"\"Constructeur : valeurs initiales.\"\"\"\n",
    "        self.pi = np.array([0.305,0.695])\n",
    "        self.sig = np.array([0.25,0.25])\n",
    "        self.m = np.array([0.,1.])\n",
    "\n",
    "    def print(self):\n",
    "        \"\"\"Affichage en une ligne des valeurs de Theta.\"\"\"\n",
    "        print(\"Theta : m = \", self.m, \"\\t| sig = \",self.sig,\"\\t| pi =\", self.pi,\"\")\n",
    "        \n",
    "    def set_random(self):\n",
    "        \"\"\"Choix au hasard de valeurs pour Theta.\"\"\"\n",
    "        self.m[0] = np.random.rand()\n",
    "        self.m[1] = np.random.rand()+1\n",
    "        self.sig[0] = np.random.rand()\n",
    "        self.sig[1] = np.random.rand()\n",
    "        self.pi[0] = np.random.rand()\n",
    "        self.pi[1] = 1-self.pi[0]\n",
    "        \n",
    "    def toarray(self):\n",
    "        \"\"\"Retourne les valeurs de Theta sous la forme d'un tableau.\"\"\"\n",
    "        return np.array([self.m[0],self.m[1],self.sig[0],self.sig[1],self.pi[0],self.pi[1]])\n",
    "    \n",
    "    def fromarray(self,array):\n",
    "        \"\"\"Attribue des valeurs dans Theta à partir d'un tableau.\"\"\"\n",
    "        self.m[0],self.m[1],self.sig[0],self.sig[1],self.pi[0],self.pi[1] = array"
   ]
  },
  {
   "cell_type": "markdown",
   "id": "43a7c2e1",
   "metadata": {},
   "source": [
    "Ainsi, nous pouvons créer un objet `Theta_reel` pour simuler une image $\\mathbf{Y}$."
   ]
  },
  {
   "cell_type": "code",
   "execution_count": 4,
   "id": "fd863b90",
   "metadata": {},
   "outputs": [
    {
     "name": "stdout",
     "output_type": "stream",
     "text": [
      "Theta : m =  [0. 1.] \t| sig =  [0.25 0.25] \t| pi = [0.305 0.695] \n",
      "0.0 0.25\n"
     ]
    }
   ],
   "source": [
    "Theta_reel = Param_id()\n",
    "Theta_reel.print()\n",
    "\n",
    "print(Theta_reel.m[0], Theta_reel.sig[1])"
   ]
  },
  {
   "cell_type": "markdown",
   "id": "84250d21",
   "metadata": {},
   "source": [
    "<font color='orange' size = 4>**Question 1.**</font>\n",
    "\n",
    "Simuler une réalisation de $\\mathbf{Y}$ conditionnellement à $\\mathbf{X} = \\mathbf{x}$ et l'afficher.\n",
    "\n",
    "On pourra grouper le code de simulation dans une fonction `simule_Y_cond_X(X,Theta)` qui sera utilisée ensuite."
   ]
  },
  {
   "cell_type": "code",
   "execution_count": null,
   "id": "ba3fb16a",
   "metadata": {},
   "outputs": [],
   "source": []
  },
  {
   "cell_type": "markdown",
   "id": "a2d8c1c1",
   "metadata": {},
   "source": [
    "## 2. Segmentation supervisée.\n",
    "Dans cette partie, on considère $\\mathbf{y}$ fixé, et l'objectif est de retrouver le  $\\mathbf{x}$ d'origine."
   ]
  },
  {
   "cell_type": "markdown",
   "id": "f9064c88",
   "metadata": {},
   "source": [
    "<font color='orange' size = 4>**Question 2.**</font>\n",
    "\n",
    "Calculer pour chaque classe $\\omega_k$, et chaque site $s$ les probabilités a posteriori $p(x_s = \\omega_k | \\mathbf{y})$.\n",
    "\n",
    "Le résultat pourra prendre la forme d'un tableau `proba_post` de taille $2 \\times P \\times Q$ où $P$ et $Q$ sont les dimensions de l'image. Aficher le tableau et vérifier la cohérence des résultats.\n",
    "\n",
    "On pourra rassembler les calcul dans une fonction `calc_probapost(Y,Theta)`."
   ]
  },
  {
   "cell_type": "code",
   "execution_count": null,
   "id": "a1104e7a",
   "metadata": {},
   "outputs": [],
   "source": []
  },
  {
   "cell_type": "markdown",
   "id": "fed340fc",
   "metadata": {},
   "source": [
    "<font color='orange' size = 4>**Question 3.**</font>\n",
    "\n",
    "Utiliser ces probabilités a posteriori pour estimer la segmentation $\\hat{\\mathbf{x}}$. Afficher le résultat, et calculer le taux d'erreur de segmentation associé.\n",
    "\n",
    "Une fois le code fonctionnel, on pourra regrouper les opérations des questions 2 et 3 dans une fonction `calc_Xpost_id(Y,Theta)` qui estime  $\\hat{\\mathbf{x}}$ à partir de $\\mathbf{y}$ et $\\mathbf{\\Theta}$.\n",
    "\n",
    "Vous pouvez également créer une fonction `calcul_erreur(X1,X2)` qui vous donne le taux d'erreur de segmentation ; elle vous sera utile tout au long des TP."
   ]
  },
  {
   "cell_type": "code",
   "execution_count": null,
   "id": "805ecc74",
   "metadata": {},
   "outputs": [],
   "source": []
  },
  {
   "cell_type": "markdown",
   "id": "b596e046",
   "metadata": {},
   "source": [
    "## 3. Segmentation non supervisée\n",
    "\n",
    "### 3.1 Algorithme SEM "
   ]
  },
  {
   "cell_type": "markdown",
   "id": "d571006c",
   "metadata": {},
   "source": [
    "<font color='orange' size = 4>**Question 4.**</font>\n",
    "\n",
    "Écrire les fonctions nécessaire à l'estimation des paramètres avec les \"données complètes\" $(\\mathbf{x}, \\mathbf{y})$.\n",
    "On les notera : \n",
    "\n",
    "  - `est_m` pour les estimateurs des moyennes\n",
    "  - `est_sig` pour les écarts-types\n",
    "  - `est_pi` pour les proportions\n",
    "    \n",
    "Ensuite, créer une fonction `est_Theta(x,y)` qui retourne l'ensemble des paramètres stockés dans une variable `Theta` de la classe `Param_id`. \n",
    "\n",
    "Vous pouvez vérifier le bon fonctionnement de chaque fonction à l'aide des $\\mathbf{x}$ et $\\mathbf{y}$ utilisés précédemment."
   ]
  },
  {
   "cell_type": "code",
   "execution_count": null,
   "id": "9a688117",
   "metadata": {},
   "outputs": [],
   "source": []
  },
  {
   "cell_type": "markdown",
   "id": "6d23a3ac",
   "metadata": {},
   "source": [
    "<font color='orange' size = 4>**Question 5.**</font>\n",
    "\n",
    "Implémenter l'algorithme SEM. Il est suggéré de suivre les étapes suivantes :\n",
    "\n",
    "1. Initialiser simplement en prenant un estimateur naïf de $\\mathbf{x}$\n",
    "2. Fixer un grand nombre d'itération ( $> 100$ au moins)\n",
    "3. Vérifier que la valeur finale de `Theta_SEM` est raisonnable par rapport à `Theta_reel` défini plus haut.\n",
    "\n",
    "Ensuite, nous pouvons être plus précis algorithmiquement :\n",
    "\n",
    "4. Stocker chaque valeur de $\\mathbf{\\Theta}^{(q)}$ dans une ligne d'un tableau `theta_series` de taille $6 \\times$ nb. iteration\n",
    "5. Afficher toutes les valeurs prises par les paramètres en affichant 6 graphes d'évolution des valeurs en fonction du nméro d'itération.\n",
    "6. Prendre comme valeur finale de `Theta_SEM` la moyenne des dernières valeurs.\n"
   ]
  },
  {
   "cell_type": "code",
   "execution_count": null,
   "id": "a588eb62",
   "metadata": {},
   "outputs": [],
   "source": []
  },
  {
   "cell_type": "markdown",
   "id": "38a89a0a",
   "metadata": {},
   "source": [
    "<font color='orange' size = 4>**Question 6.**</font>\n",
    "\n",
    "Finalement, procéder à la segmentation non supervisée en utilisant les paramètres `Theta_SEM`, et calculer le taux d'erreur de segmentation. Commenter le résultat par rapport au cas supervisé.\n",
    "\n",
    "L'ensemble (SEM, et estimation du $\\mathbf{x}$ associé) pourra être regroupé dans une fonction `segmentation_ID_SEM(y)` qui nous servira dans la suite du TP et dans les suivants."
   ]
  },
  {
   "cell_type": "code",
   "execution_count": null,
   "id": "9c63cef8",
   "metadata": {},
   "outputs": [],
   "source": []
  },
  {
   "cell_type": "markdown",
   "id": "ecc83148",
   "metadata": {},
   "source": [
    "## 3.2. Algorithme EM\n",
    "\n",
    "L'algorithmes SEM est relativement simple à implémenter, mais reste stochastique. Dans cette partie on recherche à implémenter l'algorithme EM comme alternative.\n",
    "\n",
    "<font color='orange' size = 4>**Question 7.**</font>\n",
    "\n",
    "De la même manière que dans la question 4, nous commençons par l'estimation des paramètres à partir de données \"complètes\" $(\\mathbf{x}, \\mathbf{y})$.\n",
    "\n",
    "Attention, nous utilisons ici des estimateurs pondérés, différents de ceux de la question 4 : il faut faire intervenir les probabilités à posteriori $p(x_s = \\omega_k | \\mathbf{y})$, stockées dans le tableau `proba_post` (plus d'information dans le cours).\n",
    "\n",
    "On les notera : \n",
    "\n",
    "  - `est_m_pondere` pour les estimateurs des moyennes\n",
    "  - `est_sig_pondere` pour les écarts-types\n",
    "  - `est_pi_pondere` pour les proportions\n",
    "    \n",
    "Ensuite, créer une fonction `est_Theta_pondere(proba_post,y)` qui rassemble ces trois estimateurs."
   ]
  },
  {
   "cell_type": "code",
   "execution_count": null,
   "id": "54887b46",
   "metadata": {},
   "outputs": [],
   "source": []
  },
  {
   "cell_type": "markdown",
   "id": "4378d5ed",
   "metadata": {},
   "source": [
    "<font color='orange' size = 4>**Question 8.**</font>\n",
    "\n",
    "Implémenter ensuite l'algorithme EM en suivant la même démarche que celle adoptée en question 5 pour SEM.\n",
    "\n",
    "Différence notable : le résultat de EM (stocké dans `Theta_EM` pour la suite) est la dernière valeure prise par $\\mathbf{Theta}$ car l'algorithme est déterministe."
   ]
  },
  {
   "cell_type": "code",
   "execution_count": null,
   "id": "7ecd5800",
   "metadata": {},
   "outputs": [],
   "source": []
  },
  {
   "cell_type": "markdown",
   "id": "becad8e7",
   "metadata": {},
   "source": [
    "<font color='orange' size = 4>**Question 9.**</font>\n",
    "\n",
    "Réaliser la segmentation non supervisée avec `Theta_EM`, et la comparer avec les précédents résultats.\n",
    "\n",
    "L'ensemble (EM, et estimation du $\\mathbf{x}$ associé) pourra là aussi être regroupé dans une fonction `segmentation_ID_EM(y)` qui nous servira ensuite."
   ]
  },
  {
   "cell_type": "code",
   "execution_count": null,
   "id": "b278b82c",
   "metadata": {},
   "outputs": [],
   "source": []
  },
  {
   "cell_type": "markdown",
   "id": "29895ea6",
   "metadata": {},
   "source": [
    "# 4. Variations expérimentales\n",
    "\n",
    "Jusqu'ici, nous n'avons traité qu'une image pour valider la segmentation supervisée et non supervisée.\n",
    "Pour établir un résultat scientifiquement représentatif, il faut répéter les expériences afin d'obtenir des résultats moyens.\n",
    "Il\n",
    "\n",
    "<font color='orange' size = 4>**Question 10.**</font>\n",
    "\n",
    "En gardant la même valeur pour `Theta_reel`, répéter 50 expériences (simulations de $\\mathbf{Y}=\\mathbf{y}$, segmentation non supervisée, calcul de l'erreur) pour obtenir une erreur moyenne de segmentation dans les cas :\n",
    "- supervisé,\n",
    "- non supervisé avec SEM,\n",
    "- non supervisé avec EM.\n",
    "\n",
    "Commenter les résultats.\n",
    "\n",
    "Remarque : calculer 50 répétitions prends du temps, vous pouvez commencer avec une plus petite valeur pour valider votre code."
   ]
  },
  {
   "cell_type": "code",
   "execution_count": null,
   "id": "e36ac2eb",
   "metadata": {},
   "outputs": [],
   "source": []
  },
  {
   "cell_type": "markdown",
   "id": "8d8d329e",
   "metadata": {},
   "source": [
    "<font color='orange' size = 4>**Question 11.**</font>\n",
    "\n",
    "On souhaite maintenant faire varier l'écart-type du bruit $\\sigma$ en gardant les autres paramètres fixes. \n",
    "Reproduire l'expérience de la question précédente en faisant varier $\\sigma$, et en gardant 100 réalisations différentes de $\\mathbf{Y}=\\mathbf{y}$ pour chaque valeur de $\\sigma$.\n",
    "Afficher le résultat, commenter, et conclure sur les éléments vus dans ce TD."
   ]
  },
  {
   "cell_type": "code",
   "execution_count": null,
   "id": "995d9a25",
   "metadata": {},
   "outputs": [],
   "source": []
  }
 ],
 "metadata": {
  "kernelspec": {
   "display_name": "Python 3",
   "language": "python",
   "name": "python3"
  },
  "language_info": {
   "codemirror_mode": {
    "name": "ipython",
    "version": 3
   },
   "file_extension": ".py",
   "mimetype": "text/x-python",
   "name": "python",
   "nbconvert_exporter": "python",
   "pygments_lexer": "ipython3",
   "version": "3.10.4"
  }
 },
 "nbformat": 4,
 "nbformat_minor": 5
}
